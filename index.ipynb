{
 "cells": [
  {
   "cell_type": "markdown",
   "metadata": {},
   "source": [
    "# Stable and manipulable Bloch point\n",
    "Marijan Beg<sup>1,2</sup>, Ryan A. Pepper<sup>2</sup>, David Cortes-Ortuno<sup>2</sup>, Bilal Atie<sup>2</sup>, Marc-Antonio Bisotti<sup>2</sup>, Gary Downing<sup>2</sup>, Thomas Kluyver<sup>1</sup>, Ondrej Hovorka<sup>2</sup>, and Hans Fangohr<sup>1,2</sup>\n",
    "\n",
    "<sup>1</sup> *European XFEL GmbH, Holzkoppel 4, 22869 Schenefeld, Germany*  \n",
    "<sup>2</sup> *Faculty of Engineering and Physical Sciences, University of Southampton, Southampton SO17 1BJ, United Kingdom*  \n",
    "\n",
    "Jupyter notebooks which contain plotting scripts to analyse and plot the data are:\n",
    "\n",
    "- [Stability](figures/stability.ipynb)\n",
    "- [Hysteresis](figures/hysteresis.ipynb)\n",
    "- [Creation](figures/creation.ipynb)\n",
    "\n",
    "## About\n",
    "\n",
    "This repository contains simulation and data analysis scripts used to obtain results for [Beg, M. et al. Stable and manipulable Bloch point. arXiv 1808.10772 (2018)](https://arxiv.org/abs/1808.10772).\n",
    "\n",
    "## Micromagnetic simulations\n",
    "\n",
    "Simulations scripts used to run micromagneyic simulations using [Finmag](https://github.com/fangohr/finmag) are in `src/` directory. In order to run them, please run\n",
    "\n",
    "    make all\n",
    "\n",
    "Micromagnetic simulations will be run inside [Docker](https://www.docker.com/) container, which contains all the necessary software. Therefore, please make sure you have Docker installed on your machine. Installation instructions can be found [here](https://docs.docker.com/install/). Runtime is approximatelly 2 hours.\n",
    "\n",
    "If you would like only to reproduce the plots from the publication, there is no need to run micromagnetic simulations again, because all the `*.pkl` files required are already a part of this repository. However, VTK files of vector fields are not a part of it due to their size. Acordingly, if you would like to create them, please run micromagnetic simulations again (`make all`).\n",
    "\n",
    "## License\n",
    "\n",
    "Licensed under the BSD 3-Clause \"New\" or \"Revised\" License. For details, please refer to the [LICENSE](LICENSE) file.\n",
    "\n",
    "## How to cite\n",
    "\n",
    "1. Beg, M. et al. Stable and manipulable Bloch point. arXiv 1808.10772 (2018).\n",
    "\n",
    "2. DOI for this repository will be available soon\n",
    "\n",
    "## Acknowledgements\n",
    "\n",
    "This work was financially supported by the OpenDreamKit – Horizon 2020 European Research Infrastructure project (676541), EPSRC Centre for Doctoral Training grant EP/L015382/1, and the EPSRC Programme grant on Skyrmionics (EP/N032128/1)."
   ]
  }
 ],
 "metadata": {
  "kernelspec": {
   "display_name": "Python 3",
   "language": "python",
   "name": "python3"
  },
  "language_info": {
   "codemirror_mode": {
    "name": "ipython",
    "version": 3
   },
   "file_extension": ".py",
   "mimetype": "text/x-python",
   "name": "python",
   "nbconvert_exporter": "python",
   "pygments_lexer": "ipython3",
   "version": "3.6.8"
  }
 },
 "nbformat": 4,
 "nbformat_minor": 2
}
