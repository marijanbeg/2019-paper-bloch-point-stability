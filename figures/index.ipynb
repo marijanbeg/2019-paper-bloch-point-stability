{
 "cells": [
  {
   "cell_type": "markdown",
   "metadata": {},
   "source": [
    "# Stable and manipulable Bloch point\n",
    "Marijan Beg<sup>1,2</sup>, Ryan A. Pepper<sup>2</sup>, David Cortes-Ortuno<sup>2</sup>, Bilal Atie<sup>2</sup>, Marc-Antonio Bisotti<sup>2</sup>, Gary Downing<sup>2</sup>, Thomas Kluyver<sup>1</sup>, Ondrej Hovorka<sup>2</sup>, and Hans Fangohr<sup>1,2</sup>\n",
    "\n",
    "<sup>1</sup> *European XFEL GmbH, Holzkoppel 4, 22869 Schenefeld, Germany*  \n",
    "<sup>2</sup> *Faculty of Engineering and Physical Sciences, University of Southampton, Southampton SO17 1BJ, United Kingdom*  \n",
    "\n",
    "## Jupyter notebooks\n",
    "\n",
    "Jupyter notebooks which contain plotting scripts to analyse and plot the data reported in [M. Beg, *et al.* Stable and manipulable Bloch point. *arXiv* 1808.10772 (2018)](https://arxiv.org/abs/1808.10772):\n",
    "\n",
    "- Figure 2: [Stability](figures/stability.ipynb)\n",
    "- Figure 3: [Hysteresis](figures/hysteresis.ipynb)\n",
    "- Figure 4: [Creation](figures/creation.ipynb)\n",
    "\n",
    "## About\n",
    "\n",
    "This repository contains simulation, data analysis, and plotting scripts used to obtain results reported in  \n",
    "\n",
    "[M. Beg *et al.* Stable and manipulable Bloch point. *arXiv* 1808.10772 (2018)](https://arxiv.org/abs/1808.10772).\n",
    "\n",
    "## Micromagnetic simulations\n",
    "\n",
    "Simulation scripts used to run micromagnetic simulations using [Finmag](https://github.com/fangohr/finmag) are in `src/` directory. In order to run them all, please run\n",
    "\n",
    "    make all\n",
    "\n",
    "If you would like only to reproduce the plots from the publication, there is no need to run micromagnetic simulations again, because all the `*.txt` files required are already a part of this repository. However, VTK and HDF5 files of vector fields are not a part of it due to their size. Accordingly, if you would like to create them, please run micromagnetic simulations again (`make all`). For the visualisation and the analysis of VTK files, package like [Paraview](https://www.paraview.org/) can be used.\n",
    "\n",
    "#### Docker\n",
    "\n",
    "Micromagnetic simulations will be run inside [Docker](https://www.docker.com/) container, which contains all the necessary software. Therefore, please make sure you have Docker installed on your machine. Installation instructions can be found [here](https://docs.docker.com/install/). Runtime is approximatelly 2 hours.\n",
    "\n",
    "Docker image required to run micromagnetic simulations is `marijanbeg/bloch_point:finmag` and it publicly available in [Docker Cloud](https://cloud.docker.com/repository/docker/marijanbeg/bloch_point). If Docker is installed and `make all` is run, it will be pulled automatically. Alternatively, it can be obtained from the Zenodo record under [10.5281/zenodo.2873744](https://zenodo.org/deposit/2873744) DOI. After downloading the Docker image file and before running `make all`, first run `make load-image`.\n",
    "\n",
    "## Figures\n",
    "\n",
    "Scripts for creating plots in Figures 2, 3, and 4 from the publication are in Jupyter notebooks which can be found in `figures/` directory. These notebooks can also be run in the cloud via [Binder](https://mybinder.org/v2/gh/marijanbeg/2019-paper-bloch-point-stability/master?filepath=index.ipynb). This does not require you to have anything installed and no files will be created on your machine.\n",
    "\n",
    "Alternatively, if you decide to run notebooks on your machine, apart from Python 3, you will need to install the requirements (`numpy`, `matplotlib`, and `seaborn`):\n",
    "\n",
    "    python3 -m pip install -r requirements.txt\n",
    "\n",
    "## How to cite\n",
    "\n",
    "1. M. Beg, *et al.* Stable and manipulable Bloch point. *arXiv* 1808.10772 (2018).\n",
    "\n",
    "2. DOI for this repository will be available soon\n",
    "\n",
    "## License\n",
    "\n",
    "Licensed under the BSD 3-Clause \"New\" or \"Revised\" License. For details, please refer to the [LICENSE](LICENSE) file.\n",
    "\n",
    "## Acknowledgements\n",
    "\n",
    "This work was financially supported by the [OpenDreamKit](https://opendreamkit.org/) – Horizon 2020 European Research Infrastructure project (676541), EPSRC Centre for Doctoral Training grant [EP/L015382/1](http://www.ngcm.soton.ac.uk/), and the EPSRC Programme grant on Skyrmionics [EP/N032128/1](https://www.skyrmions.ac.uk/)."
   ]
  }
 ],
 "metadata": {
  "kernelspec": {
   "display_name": "Python 3",
   "language": "python",
   "name": "python3"
  },
  "language_info": {
   "codemirror_mode": {
    "name": "ipython",
    "version": 3
   },
   "file_extension": ".py",
   "mimetype": "text/x-python",
   "name": "python",
   "nbconvert_exporter": "python",
   "pygments_lexer": "ipython3",
   "version": "3.8.5"
  }
 },
 "nbformat": 4,
 "nbformat_minor": 4
}
