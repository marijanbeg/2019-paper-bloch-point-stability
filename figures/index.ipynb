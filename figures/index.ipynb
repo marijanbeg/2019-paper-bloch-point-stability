{
 "cells": [
  {
   "cell_type": "markdown",
   "metadata": {},
   "source": [
    "## Jupyter notebooks\n",
    "\n",
    "Jupyter notebooks used to plot figures in\n",
    "\n",
    "- M. Beg *et al.* Stable and manipulable Bloch point. [*Scientific Reports* **9**, 7959](https://www.nature.com/articles/s41598-019-44462-2) (2019)\n",
    "\n",
    "are:\n",
    "\n",
    "- Figure 2: [Stability](stability.ipynb)\n",
    "- Figure 3: [Hysteresis](hysteresis.ipynb)\n",
    "- Figure 4: [Creation](creation.ipynb)\n",
    "\n",
    "For details, please refer to `README.md` file in the GitHub [repository](https://github.com/marijanbeg/2019-paper-bloch-point-stability)."
   ]
  }
 ],
 "metadata": {
  "kernelspec": {
   "display_name": "Python 3",
   "language": "python",
   "name": "python3"
  },
  "language_info": {
   "codemirror_mode": {
    "name": "ipython",
    "version": 3
   },
   "file_extension": ".py",
   "mimetype": "text/x-python",
   "name": "python",
   "nbconvert_exporter": "python",
   "pygments_lexer": "ipython3",
   "version": "3.8.5"
  }
 },
 "nbformat": 4,
 "nbformat_minor": 4
}
